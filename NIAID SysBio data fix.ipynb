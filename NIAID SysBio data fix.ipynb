{
 "cells": [
  {
   "cell_type": "markdown",
   "id": "a09da9b4",
   "metadata": {},
   "source": [
    "## NIAID SysBio Data fix\n",
    "\n",
    "The NDE parser for the DDE currently delineates between NIAID SysBio, NIAID Data Ecosystem, and other Data Discovery Engine ingested records based on the context file, however many batch-uploaded SysBio records do NOT have an @context object in the record. This causes it to be attributed only to the Data Discover Engine, and NOT NIAID SysBio\n",
    "\n",
    "To do:\n",
    "1. Use nde API to find all records missing the @context file (i.e. - they're being attributed only to the Data Discovery Engine\n",
    "2. Use the Biothings DDE API to get the raw json objects for these records\n",
    "3. Add the require @context information to each json object for these records\n",
    "4. Create a batch json file for upload to the DDE\n",
    "5. Batch upload the records to update them in the DDE\n",
    "6. Request a refresh of the Data ingested from the DDE by the NDE team (Jason)\n",
    "\n"
   ]
  },
  {
   "cell_type": "code",
   "execution_count": 10,
   "id": "fd23e17e",
   "metadata": {},
   "outputs": [],
   "source": [
    "import os\n",
    "import requests\n",
    "import json\n",
    "import time\n",
    "import pandas as pd"
   ]
  },
  {
   "cell_type": "code",
   "execution_count": 2,
   "id": "44782f9d",
   "metadata": {},
   "outputs": [],
   "source": [
    "## paths\n",
    "script_path = os.getcwd()\n",
    "data_path = os.path.join(script_path,'data')"
   ]
  },
  {
   "cell_type": "code",
   "execution_count": 3,
   "id": "a521a4c0",
   "metadata": {},
   "outputs": [],
   "source": [
    "## API Urls\n",
    "nde_id = \"DDE_0565c31a11705723\"\n",
    "query_term = \"includedInDataCatalog.name:%22Data%20Discovery%20Engine%22\"\n",
    "query_params = \"&fields=_id&size=500\"\n",
    "nde_base_url = f\"https://api-staging.data.niaid.nih.gov/v1/query?&q={query_term}&{query_params}\"\n",
    "dde_id = \"0565c31a11705723\"\n",
    "dde_base_url = f\"https://discovery.biothings.io/api/dataset/{dde_id}\""
   ]
  },
  {
   "cell_type": "code",
   "execution_count": 14,
   "id": "e5f8235b",
   "metadata": {},
   "outputs": [
    {
     "name": "stdout",
     "output_type": "stream",
     "text": [
      "['DDE_0565c31a11705723', 'DDE_080de1604f9f92e0']\n",
      "['DDE_2328930bf234efc1', 'DDE_b004a7de1f900bc2']\n",
      "['DDE_2328930bf234efc1', 'DDE_b004a7de1f900bc2']\n"
     ]
    }
   ],
   "source": [
    "#### Fetch all DDE records from NDE\n",
    "\n",
    "## Fetch all DDE records in NDE\n",
    "query_params = \"&fields=_id&size=500\"\n",
    "query_term = \"includedInDataCatalog.name:%22Data%20Discovery%20Engine%22\"\n",
    "nde_base_url = f\"https://api-staging.data.niaid.nih.gov/v1/query?&q={query_term}&{query_params}\"\n",
    "nde_dde_request = requests.get(nde_base_url)\n",
    "nde_dde_json = json.loads(nde_dde_request.text)\n",
    "nde_dde_list = []\n",
    "for eachhit in nde_dde_json['hits']:\n",
    "    nde_dde_list.append(eachhit['_id'])\n",
    "print(nde_dde_list[0:2])\n",
    "\n",
    "## Fetch all SysBio records in NDE\n",
    "query_term = 'includedInDataCatalog.name:\"Data Discovery Engine, NIAID Systems Biology\"'\n",
    "nde_base_url = f\"https://api-staging.data.niaid.nih.gov/v1/query?&q={query_term}&{query_params}\"\n",
    "nde_sysbio_request = requests.get(nde_base_url)\n",
    "nde_sysbio_json = json.loads(nde_sysbio_request.text)\n",
    "nde_sysbio_list = []\n",
    "for eachhit in nde_sysbio_json['hits']:\n",
    "    nde_sysbio_list.append(eachhit['_id'])\n",
    "print(nde_sysbio_list[0:2])\n",
    "\n",
    "## Fetch all NDE-DDE records in NDE\n",
    "query_term = 'includedInDataCatalog.name:\"Data Discovery Engine, NIAID Data Ecosystem\"'\n",
    "nde_base_url = f\"https://api-staging.data.niaid.nih.gov/v1/query?&q={query_term}&{query_params}\"\n",
    "nde_request = requests.get(nde_base_url)\n",
    "nde_json = json.loads(nde_request.text)\n",
    "nde_list = []\n",
    "for eachhit in nde_json['hits']:\n",
    "    nde_list.append(eachhit['_id'])\n",
    "print(nde_list[0:2])"
   ]
  },
  {
   "cell_type": "code",
   "execution_count": 15,
   "id": "2099d572",
   "metadata": {},
   "outputs": [
    {
     "name": "stdout",
     "output_type": "stream",
     "text": [
      "nde_dde_set:  373\n",
      "nde_sysbio_set:  59\n",
      "nde_set:  64\n",
      "nde_dde_set less sysbio:  314\n",
      "dde_set:  309\n"
     ]
    }
   ],
   "source": [
    "#### Subset to obtain only the problematic records\n",
    "nde_dde_set = set(nde_dde_list)\n",
    "nde_sysbio_set = set(nde_sysbio_list)\n",
    "nde_set = set(nde_list)\n",
    "\n",
    "temp_set = nde_dde_set - nde_sysbio_set\n",
    "dde_set = temp_set - nde_set\n",
    "print(\"nde_dde_set: \",len(nde_dde_set))\n",
    "print(\"nde_sysbio_set: \",len(nde_sysbio_set))\n",
    "print(\"nde_set: \", len(nde_set))\n",
    "print(\"nde_dde_set less sysbio: \", len(temp_set))\n",
    "print(\"dde_set: \",len(dde_set))"
   ]
  },
  {
   "cell_type": "code",
   "execution_count": 6,
   "id": "4f86c997",
   "metadata": {},
   "outputs": [
    {
     "name": "stdout",
     "output_type": "stream",
     "text": [
      "['878bfe0874851cc7', '66c0ab81b12cff8c']\n"
     ]
    }
   ],
   "source": [
    "#### Fix the identifiers so that they can be used to pull records from the DDE API\n",
    "dde_list = list(dde_set)\n",
    "dde_id_list = [x.replace(\"DDE_\",\"\") for x in dde_list]\n",
    "print(dde_id_list[0:2])"
   ]
  },
  {
   "cell_type": "code",
   "execution_count": 7,
   "id": "91a54c04",
   "metadata": {},
   "outputs": [],
   "source": [
    "#### Save this list\n",
    "with open(os.path.join(data_path,'ids2fix.txt'),'w') as outwrite:\n",
    "    for eachid in dde_id_list:\n",
    "        outwrite.write(eachid+'\\n')"
   ]
  },
  {
   "cell_type": "code",
   "execution_count": 20,
   "id": "accecc50",
   "metadata": {},
   "outputs": [
    {
     "name": "stdout",
     "output_type": "stream",
     "text": [
      "{'owl': 'http://www.w3.org/2002/07/owl#', 'rdf': 'http://www.w3.org/1999/02/22-rdf-syntax-ns#', 'rdfs': 'http://www.w3.org/2000/01/rdf-schema#', 'schema': 'http://schema.org/', 'niaid': 'https://discovery.biothings.io/view/niaid/', 'xsd': 'http://www.w3.org/2001/XMLSchema#'}\n"
     ]
    }
   ],
   "source": [
    "#### Fetch a good record from the DDE for an example of the '@context' object\n",
    "r = requests.get(\"https://discovery.biothings.io/api/dataset/2328930bf234efc1\")\n",
    "tmp = json.loads(r.text)\n",
    "context = tmp['@context']\n",
    "print(context)"
   ]
  },
  {
   "cell_type": "code",
   "execution_count": 26,
   "id": "07bbb618",
   "metadata": {},
   "outputs": [
    {
     "name": "stdout",
     "output_type": "stream",
     "text": [
      "309  records fixed\n",
      "CPU times: total: 18.6 s\n",
      "Wall time: 1min 44s\n"
     ]
    }
   ],
   "source": [
    "%%time\n",
    "#### Fetch the problematic records, add the '@context' object\n",
    "fixed_records1 = []\n",
    "fixed_records2 = []\n",
    "fixed_records3 = []\n",
    "fixed_records4 = []\n",
    "i=0\n",
    "for eachid in dde_id_list:\n",
    "    dde_base_url = f\"https://discovery.biothings.io/api/dataset/{eachid}\"\n",
    "    r = requests.get(dde_base_url)\n",
    "    temp = json.loads(r.text)\n",
    "    temp['@context'] = context\n",
    "    if i < 90:\n",
    "        fixed_records1.append(temp)\n",
    "    elif 90 <= i < 180:\n",
    "        fixed_records2.append(temp)\n",
    "    elif 180 <= i < 270:\n",
    "        fixed_records3.append(temp)\n",
    "    elif 270 <= i < 310:\n",
    "        fixed_records4.append(temp)\n",
    "    time.sleep(0.125)\n",
    "    i=i+1        \n",
    "\n",
    "print(len(fixed_records),\" records fixed\")"
   ]
  },
  {
   "cell_type": "code",
   "execution_count": 27,
   "id": "54557e25",
   "metadata": {},
   "outputs": [],
   "source": [
    "#### Export the results\n",
    "with open(os.path.join(data_path,'fixed_records1.json'),'w') as outfile:\n",
    "    outfile.write(json.dumps(fixed_records1))\n",
    "with open(os.path.join(data_path,'fixed_records2.json'),'w') as outfile:\n",
    "    outfile.write(json.dumps(fixed_records2))\n",
    "with open(os.path.join(data_path,'fixed_records3.json'),'w') as outfile:\n",
    "    outfile.write(json.dumps(fixed_records3))\n",
    "with open(os.path.join(data_path,'fixed_records4.json'),'w') as outfile:\n",
    "    outfile.write(json.dumps(fixed_records4))"
   ]
  },
  {
   "cell_type": "code",
   "execution_count": null,
   "id": "5f02faf7",
   "metadata": {},
   "outputs": [],
   "source": []
  },
  {
   "cell_type": "code",
   "execution_count": 4,
   "id": "8308030f",
   "metadata": {},
   "outputs": [
    {
     "name": "stdout",
     "output_type": "stream",
     "text": [
      "['878bfe0874851cc7']\n"
     ]
    }
   ],
   "source": [
    "#### Load the id list\n",
    "dde_id_list = []\n",
    "\n",
    "with open(os.path.join(data_path,'ids2fix.txt'),'r') as infile:\n",
    "    for line in infile:\n",
    "        dde_id_list.append(line.strip())\n",
    "print(dde_id_list[0:1])"
   ]
  },
  {
   "cell_type": "code",
   "execution_count": 9,
   "id": "c45fc63e",
   "metadata": {},
   "outputs": [
    {
     "name": "stdout",
     "output_type": "stream",
     "text": [
      "{'flaneuse'}\n"
     ]
    }
   ],
   "source": [
    "#### Determine the owner of the bad records:\n",
    "userlist = []\n",
    "\n",
    "for eachid in dde_id_list:\n",
    "    dde_base_url = f\"https://discovery.biothings.io/api/dataset/{eachid}?meta=1 \"\n",
    "    r = requests.get(dde_base_url)\n",
    "    temp = json.loads(r.text)\n",
    "    userlist.append(temp['_meta']['username'])\n",
    "\n",
    "allusers = set(userlist)\n",
    "print(allusers)"
   ]
  },
  {
   "cell_type": "code",
   "execution_count": 12,
   "id": "2eb95454",
   "metadata": {},
   "outputs": [
    {
     "name": "stdout",
     "output_type": "stream",
     "text": [
      "                _id submitter             classtype\n",
      "0  878bfe0874851cc7  flaneuse  niaid::niaid:Dataset\n",
      "1  66c0ab81b12cff8c  flaneuse  niaid::niaid:Dataset\n"
     ]
    }
   ],
   "source": [
    "### Confirm the consistency of the record @types\n",
    "classlist = []\n",
    "for eachid in dde_id_list:\n",
    "    dde_base_url = f\"https://discovery.biothings.io/api/dataset/{eachid}?meta=1\"\n",
    "    r = requests.get(dde_base_url)\n",
    "    temp = json.loads(r.text)\n",
    "    classlist.append({'_id':eachid,'submitter':temp['_meta']['username'],'classtype':temp['_meta']['class_id']})\n",
    "\n",
    "records2fix = pd.DataFrame(classlist)\n",
    "records2fix.to_csv(os.path.join(data_path,'records2fix.tsv'),sep='\\t',header=True)\n",
    "print(records2fix.head(n=2))"
   ]
  },
  {
   "cell_type": "code",
   "execution_count": 13,
   "id": "1d58b2d1",
   "metadata": {},
   "outputs": [
    {
     "name": "stdout",
     "output_type": "stream",
     "text": [
      "              classtype  counts\n",
      "0  niaid::niaid:Dataset     309\n"
     ]
    }
   ],
   "source": [
    "allclasses = records2fix.groupby('classtype').size().reset_index(name='counts')\n",
    "print(allclasses)"
   ]
  },
  {
   "cell_type": "code",
   "execution_count": 21,
   "id": "ff465316",
   "metadata": {},
   "outputs": [
    {
     "name": "stdout",
     "output_type": "stream",
     "text": [
      "                   classtype  counts\n",
      "0       niaid::niaid:Dataset      43\n",
      "1  niaid::niaid:NiaidDataset      16\n",
      "['sturkarslan', 'liaochen1988@gmail.com', 'flaneuse', 'dylanwelzel@gmail.com', 'mshukla1', 'richardahn@ucla.edu', 'fluomics', 'rshabman', 'merve-cakir', 'ahyoung-lim', 'esnitkin914', 'rachsattler', 'sapoudel@ucsd.edu', 'qinglong89', 'amisharin']\n"
     ]
    }
   ],
   "source": [
    "## Check classes in sysbio set\n",
    "sysbio_ids = [x.replace(\"DDE_\",\"\") for x in nde_sysbio_set]\n",
    "\n",
    "sysbio_records = []\n",
    "for eachid in sysbio_ids:\n",
    "    dde_base_url = f\"https://discovery.biothings.io/api/dataset/{eachid}?meta=1\"\n",
    "    r = requests.get(dde_base_url)\n",
    "    temp = json.loads(r.text)\n",
    "    sysbio_records.append({'_id':eachid,'submitter':temp['_meta']['username'],'classtype':temp['_meta']['class_id']})\n",
    "\n",
    "sysbio = pd.DataFrame(sysbio_records)\n",
    "sysbioclasses = sysbio.groupby('classtype').size().reset_index(name='counts')\n",
    "print(sysbioclasses)\n",
    "print(sysbio['submitter'].unique().tolist())"
   ]
  },
  {
   "cell_type": "code",
   "execution_count": 22,
   "id": "cc3616a8",
   "metadata": {},
   "outputs": [],
   "source": [
    "classes2fix.to_csv(os.path.join(data_path,'classes2fix.tsv'),sep='\\t',header=True)"
   ]
  },
  {
   "cell_type": "code",
   "execution_count": 23,
   "id": "7a44caa8",
   "metadata": {},
   "outputs": [
    {
     "name": "stdout",
     "output_type": "stream",
     "text": [
      "                   classtype  counts\n",
      "1  niaid::niaid:NiaidDataset      16\n"
     ]
    }
   ],
   "source": [
    "print(classes2fix)"
   ]
  },
  {
   "cell_type": "code",
   "execution_count": null,
   "id": "d51ec09c",
   "metadata": {},
   "outputs": [],
   "source": []
  }
 ],
 "metadata": {
  "kernelspec": {
   "display_name": "Python 3 (ipykernel)",
   "language": "python",
   "name": "python3"
  },
  "language_info": {
   "codemirror_mode": {
    "name": "ipython",
    "version": 3
   },
   "file_extension": ".py",
   "mimetype": "text/x-python",
   "name": "python",
   "nbconvert_exporter": "python",
   "pygments_lexer": "ipython3",
   "version": "3.10.10"
  }
 },
 "nbformat": 4,
 "nbformat_minor": 5
}
