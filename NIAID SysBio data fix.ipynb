{
 "cells": [
  {
   "cell_type": "markdown",
   "id": "a09da9b4",
   "metadata": {},
   "source": [
    "## NIAID SysBio Data fix\n",
    "\n",
    "The NDE parser for the DDE currently delineates between NIAID SysBio, NIAID Data Ecosystem, and other Data Discovery Engine ingested records based on the context file, however many batch-uploaded SysBio records do NOT have an @context object in the record. This causes it to be attributed only to the Data Discover Engine, and NOT NIAID SysBio\n",
    "\n",
    "To do:\n",
    "1. Use nde API to find all records missing the @context file (i.e. - they're being attributed only to the Data Discovery Engine\n",
    "2. Use the Biothings DDE API to get the raw json objects for these records\n",
    "3. Add the require @context information to each json object for these records\n",
    "4. Create a batch json file for upload to the DDE\n",
    "5. Batch upload the records to update them in the DDE\n",
    "6. Request a refresh of the Data ingested from the DDE by the NDE team (Jason)\n",
    "\n"
   ]
  },
  {
   "cell_type": "code",
   "execution_count": 21,
   "id": "fd23e17e",
   "metadata": {},
   "outputs": [],
   "source": [
    "import os\n",
    "import requests\n",
    "import json\n",
    "import time"
   ]
  },
  {
   "cell_type": "code",
   "execution_count": 23,
   "id": "44782f9d",
   "metadata": {},
   "outputs": [],
   "source": [
    "## paths\n",
    "script_path = os.getcwd()\n",
    "data_path = os.path.join(script_path,'data')"
   ]
  },
  {
   "cell_type": "code",
   "execution_count": 9,
   "id": "a521a4c0",
   "metadata": {},
   "outputs": [],
   "source": [
    "## API Urls\n",
    "nde_id = \"DDE_0565c31a11705723\"\n",
    "query_term = \"includedInDataCatalog.name:%22Data%20Discovery%20Engine%22\"\n",
    "query_params = \"&fields=_id&size=500\"\n",
    "nde_base_url = f\"https://api-staging.data.niaid.nih.gov/v1/query?&q={query_term}&{query_params}\"\n",
    "dde_id = \"0565c31a11705723\"\n",
    "dde_base_url = f\"https://discovery.biothings.io/api/dataset/{dde_id}\""
   ]
  },
  {
   "cell_type": "code",
   "execution_count": 15,
   "id": "e5f8235b",
   "metadata": {},
   "outputs": [
    {
     "name": "stdout",
     "output_type": "stream",
     "text": [
      "['DDE_0565c31a11705723', 'DDE_080de1604f9f92e0']\n",
      "['DDE_2328930bf234efc1', 'DDE_b004a7de1f900bc2']\n",
      "['DDE_2328930bf234efc1', 'DDE_b004a7de1f900bc2']\n"
     ]
    }
   ],
   "source": [
    "#### Fetch all DDE records from NDE\n",
    "\n",
    "## Fetch all DDE records in NDE\n",
    "query_params = \"&fields=_id&size=500\"\n",
    "query_term = \"includedInDataCatalog.name:%22Data%20Discovery%20Engine%22\"\n",
    "nde_base_url = f\"https://api-staging.data.niaid.nih.gov/v1/query?&q={query_term}&{query_params}\"\n",
    "nde_dde_request = requests.get(nde_base_url)\n",
    "nde_dde_json = json.loads(nde_dde_request.text)\n",
    "nde_dde_list = []\n",
    "for eachhit in nde_dde_json['hits']:\n",
    "    nde_dde_list.append(eachhit['_id'])\n",
    "print(nde_dde_list[0:2])\n",
    "\n",
    "## Fetch all SysBio records in NDE\n",
    "query_term = 'includedInDataCatalog.name:\"Data Discovery Engine, NIAID Systems Biology\"'\n",
    "nde_base_url = f\"https://api-staging.data.niaid.nih.gov/v1/query?&q={query_term}&{query_params}\"\n",
    "nde_sysbio_request = requests.get(nde_base_url)\n",
    "nde_sysbio_json = json.loads(nde_sysbio_request.text)\n",
    "nde_sysbio_list = []\n",
    "for eachhit in nde_sysbio_json['hits']:\n",
    "    nde_sysbio_list.append(eachhit['_id'])\n",
    "print(nde_sysbio_list[0:2])\n",
    "\n",
    "## Fetch all NDE-DDE records in NDE\n",
    "query_term = 'includedInDataCatalog.name:\"Data Discovery Engine, NIAID Data Ecosystem\"'\n",
    "nde_base_url = f\"https://api-staging.data.niaid.nih.gov/v1/query?&q={query_term}&{query_params}\"\n",
    "nde_request = requests.get(nde_base_url)\n",
    "nde_json = json.loads(nde_request.text)\n",
    "nde_list = []\n",
    "for eachhit in nde_json['hits']:\n",
    "    nde_list.append(eachhit['_id'])\n",
    "print(nde_list[0:2])"
   ]
  },
  {
   "cell_type": "code",
   "execution_count": 16,
   "id": "2099d572",
   "metadata": {},
   "outputs": [
    {
     "name": "stdout",
     "output_type": "stream",
     "text": [
      "nde_dde_set:  373\n",
      "nde_sysbio_set:  59\n",
      "nde_set:  64\n",
      "nde_dde_set less sysbio:  314\n",
      "dde_set:  309\n"
     ]
    }
   ],
   "source": [
    "#### Subset to obtain only the problematic records\n",
    "nde_dde_set = set(nde_dde_list)\n",
    "nde_sysbio_set = set(nde_sysbio_list)\n",
    "nde_set = set(nde_list)\n",
    "\n",
    "temp_set = nde_dde_set - nde_sysbio_set\n",
    "dde_set = temp_set - nde_set\n",
    "print(\"nde_dde_set: \",len(nde_dde_set))\n",
    "print(\"nde_sysbio_set: \",len(nde_sysbio_set))\n",
    "print(\"nde_set: \", len(nde_set))\n",
    "print(\"nde_dde_set less sysbio: \", len(temp_set))\n",
    "print(\"dde_set: \",len(dde_set))"
   ]
  },
  {
   "cell_type": "code",
   "execution_count": 17,
   "id": "4f86c997",
   "metadata": {},
   "outputs": [
    {
     "name": "stdout",
     "output_type": "stream",
     "text": [
      "['87ea6ceaf280c0d6', '82a256e80ed07685']\n"
     ]
    }
   ],
   "source": [
    "#### Fix the identifiers so that they can be used to pull records from the DDE API\n",
    "dde_list = list(dde_set)\n",
    "dde_id_list = [x.replace(\"DDE_\",\"\") for x in dde_list]\n",
    "print(dde_id_list[0:2])"
   ]
  },
  {
   "cell_type": "code",
   "execution_count": 20,
   "id": "accecc50",
   "metadata": {},
   "outputs": [
    {
     "name": "stdout",
     "output_type": "stream",
     "text": [
      "{'owl': 'http://www.w3.org/2002/07/owl#', 'rdf': 'http://www.w3.org/1999/02/22-rdf-syntax-ns#', 'rdfs': 'http://www.w3.org/2000/01/rdf-schema#', 'schema': 'http://schema.org/', 'niaid': 'https://discovery.biothings.io/view/niaid/', 'xsd': 'http://www.w3.org/2001/XMLSchema#'}\n"
     ]
    }
   ],
   "source": [
    "#### Fetch a good record from the DDE for an example of the '@context' object\n",
    "r = requests.get(\"https://discovery.biothings.io/api/dataset/2328930bf234efc1\")\n",
    "tmp = json.loads(r.text)\n",
    "context = tmp['@context']\n",
    "print(context)"
   ]
  },
  {
   "cell_type": "code",
   "execution_count": 26,
   "id": "07bbb618",
   "metadata": {},
   "outputs": [
    {
     "name": "stdout",
     "output_type": "stream",
     "text": [
      "309  records fixed\n",
      "CPU times: total: 18.6 s\n",
      "Wall time: 1min 44s\n"
     ]
    }
   ],
   "source": [
    "%%time\n",
    "#### Fetch the problematic records, add the '@context' object\n",
    "fixed_records1 = []\n",
    "fixed_records2 = []\n",
    "fixed_records3 = []\n",
    "fixed_records4 = []\n",
    "i=0\n",
    "for eachid in dde_id_list:\n",
    "    dde_base_url = f\"https://discovery.biothings.io/api/dataset/{eachid}\"\n",
    "    r = requests.get(dde_base_url)\n",
    "    temp = json.loads(r.text)\n",
    "    temp['@context'] = context\n",
    "    if i < 90:\n",
    "        fixed_records1.append(temp)\n",
    "    elif 90 <= i < 180:\n",
    "        fixed_records2.append(temp)\n",
    "    elif 180 <= i < 270:\n",
    "        fixed_records3.append(temp)\n",
    "    elif 270 <= i < 310:\n",
    "        fixed_records4.append(temp)\n",
    "    time.sleep(0.125)\n",
    "    i=i+1        \n",
    "\n",
    "print(len(fixed_records),\" records fixed\")"
   ]
  },
  {
   "cell_type": "code",
   "execution_count": 27,
   "id": "54557e25",
   "metadata": {},
   "outputs": [],
   "source": [
    "#### Export the results\n",
    "with open(os.path.join(data_path,'fixed_records1.json'),'w') as outfile:\n",
    "    outfile.write(json.dumps(fixed_records1))\n",
    "with open(os.path.join(data_path,'fixed_records2.json'),'w') as outfile:\n",
    "    outfile.write(json.dumps(fixed_records2))\n",
    "with open(os.path.join(data_path,'fixed_records3.json'),'w') as outfile:\n",
    "    outfile.write(json.dumps(fixed_records3))\n",
    "with open(os.path.join(data_path,'fixed_records4.json'),'w') as outfile:\n",
    "    outfile.write(json.dumps(fixed_records4))"
   ]
  },
  {
   "cell_type": "code",
   "execution_count": null,
   "id": "c45fc63e",
   "metadata": {},
   "outputs": [],
   "source": []
  }
 ],
 "metadata": {
  "kernelspec": {
   "display_name": "Python 3 (ipykernel)",
   "language": "python",
   "name": "python3"
  },
  "language_info": {
   "codemirror_mode": {
    "name": "ipython",
    "version": 3
   },
   "file_extension": ".py",
   "mimetype": "text/x-python",
   "name": "python",
   "nbconvert_exporter": "python",
   "pygments_lexer": "ipython3",
   "version": "3.10.10"
  }
 },
 "nbformat": 4,
 "nbformat_minor": 5
}
